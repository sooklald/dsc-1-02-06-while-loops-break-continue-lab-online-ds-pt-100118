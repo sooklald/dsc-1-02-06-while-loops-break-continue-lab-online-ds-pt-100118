{
 "cells": [
  {
   "cell_type": "markdown",
   "metadata": {},
   "source": [
    "# While Loops, Break and Continue - Lab"
   ]
  },
  {
   "cell_type": "markdown",
   "metadata": {},
   "source": [
    "## Introduction\n",
    "In this lab, we will practice using `while` loops, and `break` and `continue` statements in our code. We will use our control flow statements to iterate through collections and filter out or selectively operate on each element. We'll use `while` loops to perform operations until a given condition is no longer true."
   ]
  },
  {
   "cell_type": "markdown",
   "metadata": {},
   "source": [
    "## Objectives\n",
    "You will be able to:\n",
    "* Use a break and continue statements inside a loop\n",
    "* Understand, explain and use while loops"
   ]
  },
  {
   "cell_type": "markdown",
   "metadata": {},
   "source": [
    "## Instructions\n",
    "\n",
    "### While Loops\n",
    "Use while loops to perform the below operations and get the expected return values"
   ]
  },
  {
   "cell_type": "code",
   "execution_count": 1,
   "metadata": {},
   "outputs": [
    {
     "name": "stdout",
     "output_type": "stream",
     "text": [
      "slices_of_pie is now at 5 \n",
      "\n",
      "slices_of_pie is now at 4 \n",
      "\n",
      "slices_of_pie is now at 3 \n",
      "\n",
      "slices_of_pie is now at 2 \n",
      "\n",
      "slices_of_pie is now at 1 \n",
      "\n",
      "slices_of_pie is now at 0 \n",
      "\n",
      "6\n",
      "0\n"
     ]
    }
   ],
   "source": [
    "slices_of_pie = 6\n",
    "slices_eaten = 0\n",
    "# use a while loop to eat each slice of pie\n",
    "# add each slice to the slices_eaten variable\n",
    "while slices_of_pie >0:\n",
    "    slices_of_pie -= 1\n",
    "    slices_eaten += 1\n",
    "    print(\"slices_of_pie is now at\", slices_of_pie, \"\\n\")\n",
    "print(slices_eaten)\n",
    "print(slices_of_pie)"
   ]
  },
  {
   "cell_type": "code",
   "execution_count": 7,
   "metadata": {},
   "outputs": [
    {
     "name": "stdout",
     "output_type": "stream",
     "text": [
      "Pancake number (0)\n",
      "Cooked the first side for 27 seconds; time_for_breakast is now at: 1441 \n",
      "\n",
      "Cooked the other side for 27 second; time_for_breakfast is now at: 1414 \n",
      "\n",
      "I've now cooked (1) pancakes\n",
      "Pancake number (1)\n",
      "Cooked the first side for 27 seconds; time_for_breakast is now at: 1387 \n",
      "\n",
      "Cooked the other side for 27 second; time_for_breakfast is now at: 1360 \n",
      "\n",
      "I've now cooked (2) pancakes\n",
      "Pancake number (2)\n",
      "Cooked the first side for 27 seconds; time_for_breakast is now at: 1333 \n",
      "\n",
      "Cooked the other side for 27 second; time_for_breakfast is now at: 1306 \n",
      "\n",
      "I've now cooked (3) pancakes\n",
      "Pancake number (3)\n",
      "Cooked the first side for 27 seconds; time_for_breakast is now at: 1279 \n",
      "\n",
      "Cooked the other side for 27 second; time_for_breakfast is now at: 1252 \n",
      "\n",
      "I've now cooked (4) pancakes\n",
      "Pancake number (4)\n",
      "Cooked the first side for 27 seconds; time_for_breakast is now at: 1225 \n",
      "\n",
      "Cooked the other side for 27 second; time_for_breakfast is now at: 1198 \n",
      "\n",
      "I've now cooked (5) pancakes\n",
      "5\n"
     ]
    }
   ],
   "source": [
    "time_for_breakfast = 1468 # in seconds\n",
    "number_of_cooked_pancakes = 0\n",
    "# use a while loop to make yourself 5 pancakes for breakfast\n",
    "# each pancake takes 27 seconds to cook on each side\n",
    "# you must decrease the time_for_breakfast each time you \n",
    "# add a pancake to the skilled or flip a pancake (i.e. 2 times per pancake)\n",
    "# there is only room for one pancake at a time\n",
    "while number_of_cooked_pancakes <5:\n",
    "    print(f\"Pancake number ({number_of_cooked_pancakes})\")\n",
    "    time_for_breakfast -=27\n",
    "    print(\"Cooked the first side for 27 seconds; time_for_breakast is now at:\",time_for_breakfast, \"\\n\")\n",
    "    time_for_breakfast -=27\n",
    "    print(\"Cooked the other side for 27 second; time_for_breakfast is now at:\", time_for_breakfast, \"\\n\")\n",
    "    number_of_cooked_pancakes +=1\n",
    "    print(f\"I've now cooked ({number_of_cooked_pancakes}) pancakes\")\n",
    "print(number_of_cooked_pancakes)"
   ]
  },
  {
   "cell_type": "markdown",
   "metadata": {},
   "source": [
    "> **Hint:** You may find the [remove method](https://www.programiz.com/python-programming/methods/list/remove) to be useful for the next problem"
   ]
  },
  {
   "cell_type": "code",
   "execution_count": 12,
   "metadata": {},
   "outputs": [
    {
     "name": "stdout",
     "output_type": "stream",
     "text": [
      "[1, 3, 5, 7, 9, 11, 13, 15, 17, 19, 21, 23, 25, 27, 29]\n",
      "[0, 1, 2, 3, 4, 5, 6, 7, 8, 9, 10, 11, 12, 13, 14, 15, 16, 17, 18, 19, 20, 21, 22, 23, 24, 25, 26, 27, 28, 29]\n"
     ]
    }
   ],
   "source": [
    "line_of_hungry_patrons = list(range(0,30))\n",
    "fed_patrons = []\n",
    "# use a while loop to to feed the hungry patrons who have an even number\n",
    "# add the patrons with an even number to the fed_patrons list\n",
    "# then remove the even numbered patrons from the line_of_hungry_patrons\n",
    "# each list should contain 15 elements\n",
    "line_of_hungry_patrons = list(range(0,30))\n",
    "fed_patrons = []\n",
    "# use a while loop to to feed the hungry patrons who have an even number\n",
    "# add the patrons with an even number to the fed_patrons list\n",
    "# then remove the even numbered patrons from the line_of_hungry_patrons\n",
    "# each list should contain 15 elements\n",
    "\n",
    "counter = 0\n",
    "length = len(line_of_hungry_patrons)\n",
    "still_hungry = []\n",
    "\n",
    "while counter < length:\n",
    "  if line_of_hungry_patrons[counter] % 2 == 0:\n",
    "    removed = line_of_hungry_patrons[counter]\n",
    "    fed_patrons.append(removed)\n",
    "  else: still_hungry.append(line_of_hungry_patrons[counter])\n",
    "  counter += 1 \n",
    "  \n",
    "print(still_hungry)\n",
    "print(line_of_hungry_patrons)"
   ]
  },
  {
   "cell_type": "markdown",
   "metadata": {},
   "source": [
    "### `break` And `continue` Statements"
   ]
  },
  {
   "cell_type": "markdown",
   "metadata": {},
   "source": [
    "We have a list of person objects with all kinds of attributes. We'll use loops to find a person that meets a certain requirement that we are looking for or create new lists with a certain subset of elements. Write for loops with conditional statements in conjunction with `break` and `continue` to get the desired output."
   ]
  },
  {
   "cell_type": "code",
   "execution_count": 8,
   "metadata": {},
   "outputs": [],
   "source": [
    "people = [\n",
    "    {'name': \"Daniel\", 'age': 29, 'job': \"Engineer\", 'pet': \"Cat\", 'pet_name': \"Gato\"}, \n",
    "    {'name': \"Katie\", 'age': 30, 'job': \"Teacher\", 'pet': \"Dog\", 'pet_name': \"Frank\"},\n",
    "    {'name': \"Owen\", 'age': 26, 'job': \"Sales person\", 'pet': \"Cat\", 'pet_name': \"Cosmo\"},\n",
    "    {'name': \"Josh\", 'age': 22, 'job': \"Student\", 'pet': \"Cat\", 'pet_name': \"Chat\"},\n",
    "    {'name': \"Estelle\", 'age': 35, 'job': \"French Diplomat\", 'pet': \"Dog\", 'pet_name': \"Gabby\"},\n",
    "    {'name': \"Gustav\", 'age': 24, 'job': \"Brewer\", 'pet': \"Dog\", 'pet_name': \"Helen\"}\n",
    "]"
   ]
  },
  {
   "cell_type": "code",
   "execution_count": 13,
   "metadata": {},
   "outputs": [
    {
     "name": "stdout",
     "output_type": "stream",
     "text": [
      "1 Iteration Count\n",
      "Katie\n"
     ]
    }
   ],
   "source": [
    "# use the for loop below to find the *first* person in the list of people that has a dog as their pet\n",
    "# the iteration count shouldn't exceed 2 iterations\n",
    "first_dog_person = None\n",
    "iteration_count = 0\n",
    "for person in people:\n",
    "    # print(person)\n",
    "    if person['pet'] == 'Dog':\n",
    "      print(person['name']) \n",
    "      break\n",
    "    iteration_count += 1\n",
    "    print(iteration_count, \"Iteration Count\")\n",
    "    pass"
   ]
  },
  {
   "cell_type": "code",
   "execution_count": 14,
   "metadata": {},
   "outputs": [
    {
     "name": "stdout",
     "output_type": "stream",
     "text": [
      "['Owen', 'Josh']\n"
     ]
    }
   ],
   "source": [
    "# use a for loop to create a list of the cat owners who are under the age of 28\n",
    "# remember to use break and continue to make your code more efficient\n",
    "cat_owners = []\n",
    "# for loop goes here\n",
    "for person in people:\n",
    "  if person['pet'] == 'Cat' and person['age'] < 28:\n",
    "    cat_owners.append(person['name'])\n",
    "  else:\n",
    "    continue\n",
    "print(cat_owners)"
   ]
  },
  {
   "cell_type": "code",
   "execution_count": 15,
   "metadata": {},
   "outputs": [
    {
     "name": "stdout",
     "output_type": "stream",
     "text": [
      "[{'name': 'Katie', 'age': 30, 'job': 'Teacher', 'pet': 'Dog', 'pet_name': 'Frank'}]\n"
     ]
    }
   ],
   "source": [
    "# use a for loop to find the first person who is above 29 years old in our list of people\n",
    "# remember to use a break and or continue statement\n",
    "thirty_something_yr_old = []\n",
    "# for loop goes here \n",
    "\n",
    "for person in people:\n",
    "  if person['age'] > 29: thirty_something_yr_old.append(person); break\n",
    "print(thirty_something_yr_old)  \n"
   ]
  },
  {
   "cell_type": "code",
   "execution_count": 16,
   "metadata": {},
   "outputs": [
    {
     "name": "stdout",
     "output_type": "stream",
     "text": [
      "['Frank', 'Gabby', 'Helen'] Dog names \n",
      " ['Katie', 'Estelle', 'Gustav'] Dog Owners\n"
     ]
    }
   ],
   "source": [
    "# use a for loop to create a list of person names and another list of pet names for all dog owners\n",
    "# remember to use break and or continue statements\n",
    "dog_owner_names = []\n",
    "dog_names = []\n",
    "# for loop goes here\n",
    "for peeps in people:\n",
    "  if peeps['pet'] == 'Dog':\n",
    "    dog_owner_names.append(peeps['name'])\n",
    "    dog_names.append(peeps['pet_name']) \n",
    "  else: continue  \n",
    "\n",
    "\n",
    "print(dog_names, \"Dog names\", \"\\n\", dog_owner_names, \"Dog Owners\")"
   ]
  },
  {
   "cell_type": "code",
   "execution_count": 19,
   "metadata": {},
   "outputs": [
    {
     "name": "stdout",
     "output_type": "stream",
     "text": [
      "['Gato', 'Cosmo', 'Chat'] Cat names \n",
      " ['Daniel', 'Owen', 'Josh'] Cat Owners\n"
     ]
    }
   ],
   "source": [
    "# use a for loop to create a list of person names and another list of pet names for all cat owners this time\n",
    "# remember to use break and or continue statements\n",
    "# for loop goes here\n",
    "\n",
    "cat_owner_names = []\n",
    "cat_names = []\n",
    "for peeps in people:\n",
    "  if peeps['pet'] == 'Cat':\n",
    "    cat_owner_names.append(peeps['name'])\n",
    "    cat_names.append(peeps['pet_name'])\n",
    "  else: continue\n",
    "\n",
    "print(cat_names, \"Cat names\", \"\\n\", cat_owner_names, \"Cat Owners\")"
   ]
  },
  {
   "cell_type": "code",
   "execution_count": 20,
   "metadata": {},
   "outputs": [
    {
     "name": "stdout",
     "output_type": "stream",
     "text": [
      "[11, 13, 15, 17, 19, 21, 23, 25, 27, 29, 31, 33, 35, 37, 39, 41, 43, 45, 47, 49, 51, 53, 55, 57, 59, 61, 63, 65, 67, 69, 71, 73, 75, 77, 79] List of odd number plus 10\n",
      "35\n"
     ]
    }
   ],
   "source": [
    "# use a for loop to create a list of odd numbers from the list of numbers from 0 to 100\n",
    "# each time there is an odd number, add 10 to it and append it to the list_of_odd_numbers_plus_ten\n",
    "# stop adding numbers to the list when there are 35 numbers\n",
    "# use break and continue statements in your code\n",
    "list_of_numbers = list(range(0,100))\n",
    "list_of_odd_numbers_plus_ten = []\n",
    "for number in list_of_numbers:\n",
    "  if len(list_of_odd_numbers_plus_ten) == 35:\n",
    "    break\n",
    "  elif number %2 != 0:\n",
    "    list_of_odd_numbers_plus_ten.append(number + 10)\n",
    "  else: continue  \n",
    "print(list_of_odd_numbers_plus_ten, \"List of odd number plus 10\")\n",
    "print(len(list_of_odd_numbers_plus_ten))"
   ]
  },
  {
   "cell_type": "markdown",
   "metadata": {},
   "source": [
    "## Summary"
   ]
  },
  {
   "cell_type": "markdown",
   "metadata": {},
   "source": [
    "In this lab, we practiced using while loops, which continue executing their block of code until the given condition is no longer truthy. This is useful for instances where we do not have a collection or do not need a collection to solve our problem, especially when we would only like to stop the process according to a certain condition. We then practiced using control flow statements, `break` and `continue`, to selectively operate on elements, append them to new lists, or assign them to new variables."
   ]
  }
 ],
 "metadata": {
  "kernelspec": {
   "display_name": "Python 3",
   "language": "python",
   "name": "python3"
  },
  "language_info": {
   "codemirror_mode": {
    "name": "ipython",
    "version": 3
   },
   "file_extension": ".py",
   "mimetype": "text/x-python",
   "name": "python",
   "nbconvert_exporter": "python",
   "pygments_lexer": "ipython3",
   "version": "3.6.5"
  }
 },
 "nbformat": 4,
 "nbformat_minor": 2
}
